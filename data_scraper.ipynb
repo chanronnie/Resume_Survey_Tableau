{
 "cells": [
  {
   "cell_type": "markdown",
   "id": "1f51366c",
   "metadata": {},
   "source": [
    "# Survey On Resume Mistakes (2018) - Data Scraper"
   ]
  },
  {
   "cell_type": "markdown",
   "id": "b4ace928",
   "metadata": {},
   "source": [
    "### About this file\n",
    "This file is intended to extract data from a 2018 survey conducted by The Harris Poll on behalf of CareerBuilder, focusing on the most common resume mistakes leading to instant rejections.\n",
    "\n",
    "The scraped data is organized into a pandas dataframe, accessible in CSV format. The dataset includes the following information about the survey:\n",
    "- `mistakes`: The type of mistake observed in the resumes (string)\n",
    "- `percent`: The relative frequency as voted by the survey participants (integer)"
   ]
  },
  {
   "cell_type": "markdown",
   "id": "08cc0089",
   "metadata": {},
   "source": [
    "### Import necessary libraries"
   ]
  },
  {
   "cell_type": "code",
   "execution_count": 1,
   "id": "1b29d92e",
   "metadata": {},
   "outputs": [],
   "source": [
    "import requests\n",
    "from bs4 import BeautifulSoup\n",
    "import pandas as pd"
   ]
  },
  {
   "cell_type": "markdown",
   "id": "81c1320b",
   "metadata": {},
   "source": [
    "### Scrape Data\n",
    "Let's store the long url address in the variable `url`."
   ]
  },
  {
   "cell_type": "code",
   "execution_count": 2,
   "id": "9741c0e2",
   "metadata": {},
   "outputs": [],
   "source": [
    "url = \"https://press.careerbuilder.com/2018-08-24-Employers-Share-Their-Most-Outrageous-Resume-Mistakes-and-Instant-Deal-Breakers-in-a-New-CareerBuilder-Study\""
   ]
  },
  {
   "cell_type": "markdown",
   "id": "83ad7000",
   "metadata": {},
   "source": [
    "It is a best coding practice to verify whether the page has been successfully fetched before initiating the data extraction process from a website."
   ]
  },
  {
   "cell_type": "code",
   "execution_count": 3,
   "id": "77edc571",
   "metadata": {},
   "outputs": [
    {
     "name": "stdout",
     "output_type": "stream",
     "text": [
      "Page successfully fetched\n"
     ]
    }
   ],
   "source": [
    "# Get the page request\n",
    "page = requests.get(url)\n",
    "\n",
    "\n",
    "# Check the status code\n",
    "if page.status_code == 200:\n",
    "    soup = BeautifulSoup(page.content, \"html.parser\")\n",
    "    print(\"Page successfully fetched\")\n",
    "else:\n",
    "    print(f\"Error fetching page. Status code: {page.status_code}\")"
   ]
  },
  {
   "cell_type": "markdown",
   "id": "8ee83d2b",
   "metadata": {},
   "source": [
    "\n",
    "\n",
    "The page has been successfully fetched. I can now proceed to my data extraction step. Remember that the data survey is presented on the CareerBuilder website in both short paragraphs and bullet point forms. What I am specifically interested in for my visualization is the data presented in list forms. In the code below, I located the data on the website, which is contained within the `<div class=\"wd_body wd_news_body\">` and inside the `<ul>` container."
   ]
  },
  {
   "cell_type": "code",
   "execution_count": 4,
   "id": "3ef9b27d",
   "metadata": {},
   "outputs": [
    {
     "data": {
      "text/plain": [
       "<ul type=\"disc\">\n",
       "<li>Typos or bad grammar: 77 percent\n",
       "</li><li>Unprofessional email address: 35 percent\n",
       "</li><li>Resume without quantifiable results: 34 percent\n",
       "</li><li>Resume with long paragraphs of text: 25 percent\n",
       "</li><li>Resume is generic, not customized to company: 18 percent\n",
       "</li><li>Resume is more than two pages: 17 percent\n",
       "</li><li>No cover letter with resume: 10 percent </li></ul>"
      ]
     },
     "execution_count": 4,
     "metadata": {},
     "output_type": "execute_result"
    }
   ],
   "source": [
    "body = soup.find(\"div\",class_ = \"wd_body wd_news_body\")\n",
    "mistakes = body.find_all(\"ul\")[1]\n",
    "mistakes"
   ]
  },
  {
   "cell_type": "code",
   "execution_count": 5,
   "id": "13abaeaf",
   "metadata": {},
   "outputs": [
    {
     "data": {
      "text/html": [
       "<div>\n",
       "<style scoped>\n",
       "    .dataframe tbody tr th:only-of-type {\n",
       "        vertical-align: middle;\n",
       "    }\n",
       "\n",
       "    .dataframe tbody tr th {\n",
       "        vertical-align: top;\n",
       "    }\n",
       "\n",
       "    .dataframe thead th {\n",
       "        text-align: right;\n",
       "    }\n",
       "</style>\n",
       "<table border=\"1\" class=\"dataframe\">\n",
       "  <thead>\n",
       "    <tr style=\"text-align: right;\">\n",
       "      <th></th>\n",
       "      <th>mistakes</th>\n",
       "      <th>percent</th>\n",
       "    </tr>\n",
       "  </thead>\n",
       "  <tbody>\n",
       "    <tr>\n",
       "      <th>0</th>\n",
       "      <td>Typos or bad grammar</td>\n",
       "      <td>77</td>\n",
       "    </tr>\n",
       "    <tr>\n",
       "      <th>1</th>\n",
       "      <td>Unprofessional email address</td>\n",
       "      <td>35</td>\n",
       "    </tr>\n",
       "    <tr>\n",
       "      <th>2</th>\n",
       "      <td>Resume without quantifiable results</td>\n",
       "      <td>34</td>\n",
       "    </tr>\n",
       "    <tr>\n",
       "      <th>3</th>\n",
       "      <td>Resume with long paragraphs of text</td>\n",
       "      <td>25</td>\n",
       "    </tr>\n",
       "    <tr>\n",
       "      <th>4</th>\n",
       "      <td>Resume is generic, not customized to company</td>\n",
       "      <td>18</td>\n",
       "    </tr>\n",
       "    <tr>\n",
       "      <th>5</th>\n",
       "      <td>Resume is more than two pages</td>\n",
       "      <td>17</td>\n",
       "    </tr>\n",
       "    <tr>\n",
       "      <th>6</th>\n",
       "      <td>No cover letter with resume</td>\n",
       "      <td>10</td>\n",
       "    </tr>\n",
       "  </tbody>\n",
       "</table>\n",
       "</div>"
      ],
      "text/plain": [
       "                                       mistakes  percent\n",
       "0                          Typos or bad grammar       77\n",
       "1                  Unprofessional email address       35\n",
       "2           Resume without quantifiable results       34\n",
       "3           Resume with long paragraphs of text       25\n",
       "4  Resume is generic, not customized to company       18\n",
       "5                 Resume is more than two pages       17\n",
       "6                   No cover letter with resume       10"
      ]
     },
     "execution_count": 5,
     "metadata": {},
     "output_type": "execute_result"
    }
   ],
   "source": [
    "# Extract data \n",
    "\n",
    "data = []\n",
    "for mistake in mistakes.select(\"li\"):                                   \n",
    "    mistake = mistake.text.strip().split(\":\")                 # Trim all extra spaces\n",
    "    \n",
    "    mistake_type = mistake[0].capitalize()                    # Standardize data\n",
    "    mistake_percent = int(mistake[1].replace(\" percent\",\"\"))  # Remove \"percent\" and convert to integer type\n",
    "    data.append([mistake_type, mistake_percent])\n",
    "\n",
    "    \n",
    "# Store data into a pandas DataFrame\n",
    "df = pd.DataFrame(data, columns = [\"mistakes\", \"percent\"])\n",
    "df"
   ]
  },
  {
   "cell_type": "markdown",
   "id": "0a58c24b",
   "metadata": {},
   "source": [
    "### Save into a CSV file"
   ]
  },
  {
   "cell_type": "markdown",
   "id": "424475aa",
   "metadata": {},
   "source": [
    "The final step is to save the dataframe into a CSV file named `data_survey.csv`."
   ]
  },
  {
   "cell_type": "code",
   "execution_count": 6,
   "id": "7a78344e",
   "metadata": {},
   "outputs": [],
   "source": [
    "df.to_csv(\"data_survey.csv\", encoding='utf-8', index=False)"
   ]
  }
 ],
 "metadata": {
  "kernelspec": {
   "display_name": "Python 3 (ipykernel)",
   "language": "python",
   "name": "python3"
  },
  "language_info": {
   "codemirror_mode": {
    "name": "ipython",
    "version": 3
   },
   "file_extension": ".py",
   "mimetype": "text/x-python",
   "name": "python",
   "nbconvert_exporter": "python",
   "pygments_lexer": "ipython3",
   "version": "3.9.13"
  }
 },
 "nbformat": 4,
 "nbformat_minor": 5
}
